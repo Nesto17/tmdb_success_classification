{
 "cells": [
  {
   "cell_type": "markdown",
   "id": "32c0489b-8ede-40b9-b90a-e62b564dcf35",
   "metadata": {},
   "source": [
    "# Predicting a Film's Success\n",
    "\n",
    "### Utilizing Gradient Boosted Trees"
   ]
  },
  {
   "cell_type": "code",
   "execution_count": 1,
   "id": "bcfa995a-f30d-45db-bdfe-d9443a8068a1",
   "metadata": {},
   "outputs": [],
   "source": [
    "import matplotlib.pyplot as plt\n",
    "import numpy as np\n",
    "import pandas as pd\n",
    "import seaborn as sns\n",
    "import re\n",
    "from time import time"
   ]
  },
  {
   "cell_type": "markdown",
   "id": "0bb90b22-7197-4ee8-ac78-975356c65cb2",
   "metadata": {},
   "source": [
    "## Set Up\n",
    "\n",
    "We're going to use two datasets:\n",
    "\n",
    "1. TMDB Top 10,000 Most Popular Movies [source](https://www.kaggle.com/datasets/balaka18/tmdb-top-10000-popular-movies-dataset)\n",
    "2. Highest Grossing Movies (as of 10th Jan 2022) [source](https://www.kaggle.com/datasets/sanjeetsinghnaik/top-1000-highest-grossing-movies)\n",
    "\n",
    "We use the first dataset as our main training and testing resources with the second dataset to label whether films from the first dataset is successful or not."
   ]
  },
  {
   "cell_type": "code",
   "execution_count": 2,
   "id": "d01dd77a-2365-4f50-8c60-f35c26b4907b",
   "metadata": {},
   "outputs": [],
   "source": [
    "tmdb = pd.read_csv(\"tmdb_10000_movies_data.csv\")"
   ]
  },
  {
   "cell_type": "code",
   "execution_count": 3,
   "id": "e00650fc-797d-45d6-938e-8fd3546db284",
   "metadata": {},
   "outputs": [],
   "source": [
    "hgmb = pd.read_csv(\"highest_grossing_movies.csv\")\n",
    "\n",
    "hgmb.drop(['Unnamed: 0', 'Movie Info', 'Movie Runtime'], axis = 1, inplace = True)\n",
    "strip_year = lambda x : x.split(\"(\")[0].strip()\n",
    "\n",
    "hgmb['Year'] = hgmb['Title'].apply(lambda title : title[-5:-1])\n",
    "hgmb['Title'] = hgmb['Title'].apply(lambda title : strip_year(title))\n",
    "\n",
    "hgmb.sort_values(by = ['World Sales (in $)'], ascending = False, inplace = True)\n",
    "hgmb.reset_index(drop = True, inplace = True)"
   ]
  },
  {
   "cell_type": "markdown",
   "id": "24dc6db0-620e-4065-a28e-0aed7559b84d",
   "metadata": {},
   "source": [
    "## EDA and Data Preprocessing\n",
    "\n",
    "We have a lot of features that we need to preprocess here, but before that, we need to know and discern the problems in our dataset. \n",
    "\n",
    "First, we need to drop irrelevant columns to make our EDA so much easier."
   ]
  },
  {
   "cell_type": "code",
   "execution_count": 4,
   "id": "e0e3809f-e648-4d0b-bacd-a464762eaba5",
   "metadata": {},
   "outputs": [],
   "source": [
    "tmdb.drop(['TMDb_Id', 'IMDb_Id', 'Original_Title', 'Cast', 'Crew', 'Release_Date', 'Original_Language', 'Genres', 'Overview', 'Release_Status', 'Country_of_Origin', 'Languages_Spoken', 'Tagline'], axis = 1, inplace = True)"
   ]
  },
  {
   "cell_type": "code",
   "execution_count": 6,
   "id": "59e9bc2b-738c-45d2-b8ef-199abdda674a",
   "metadata": {},
   "outputs": [
    {
     "data": {
      "text/html": [
       "<div>\n",
       "<style scoped>\n",
       "    .dataframe tbody tr th:only-of-type {\n",
       "        vertical-align: middle;\n",
       "    }\n",
       "\n",
       "    .dataframe tbody tr th {\n",
       "        vertical-align: top;\n",
       "    }\n",
       "\n",
       "    .dataframe thead th {\n",
       "        text-align: right;\n",
       "    }\n",
       "</style>\n",
       "<table border=\"1\" class=\"dataframe\">\n",
       "  <thead>\n",
       "    <tr style=\"text-align: right;\">\n",
       "      <th></th>\n",
       "      <th>Title</th>\n",
       "      <th>Collection</th>\n",
       "      <th>Runtime</th>\n",
       "      <th>Popularity</th>\n",
       "      <th>Rating_average</th>\n",
       "      <th>Rating_Count</th>\n",
       "      <th>Production_Companies</th>\n",
       "      <th>Budget</th>\n",
       "      <th>Revenue</th>\n",
       "    </tr>\n",
       "  </thead>\n",
       "  <tbody>\n",
       "    <tr>\n",
       "      <th>0</th>\n",
       "      <td>Ad Astra</td>\n",
       "      <td>Single</td>\n",
       "      <td>123.0</td>\n",
       "      <td>463.487</td>\n",
       "      <td>5.9</td>\n",
       "      <td>2863</td>\n",
       "      <td>New Regency Productions | Keep Your Head | Mad...</td>\n",
       "      <td>87500000.0</td>\n",
       "      <td>127175922.0</td>\n",
       "    </tr>\n",
       "    <tr>\n",
       "      <th>1</th>\n",
       "      <td>Bloodshot</td>\n",
       "      <td>Single</td>\n",
       "      <td>110.0</td>\n",
       "      <td>235.701</td>\n",
       "      <td>7.2</td>\n",
       "      <td>1384</td>\n",
       "      <td>Sony Pictures | Cross Creek Pictures | Mimran ...</td>\n",
       "      <td>42000000.0</td>\n",
       "      <td>24573617.0</td>\n",
       "    </tr>\n",
       "    <tr>\n",
       "      <th>2</th>\n",
       "      <td>Bad Boys for Life</td>\n",
       "      <td>Bad Boys Collection</td>\n",
       "      <td>124.0</td>\n",
       "      <td>255.068</td>\n",
       "      <td>7.1</td>\n",
       "      <td>2596</td>\n",
       "      <td>Columbia Pictures | Platinum Dunes | 2.0 Enter...</td>\n",
       "      <td>0.0</td>\n",
       "      <td>191150000.0</td>\n",
       "    </tr>\n",
       "    <tr>\n",
       "      <th>3</th>\n",
       "      <td>Ant-Man</td>\n",
       "      <td>Ant-Man Collection</td>\n",
       "      <td>117.0</td>\n",
       "      <td>134.294</td>\n",
       "      <td>7.1</td>\n",
       "      <td>13625</td>\n",
       "      <td>Marvel Studios</td>\n",
       "      <td>130000000.0</td>\n",
       "      <td>519311965.0</td>\n",
       "    </tr>\n",
       "    <tr>\n",
       "      <th>4</th>\n",
       "      <td>Percy Jackson: Sea of Monsters</td>\n",
       "      <td>Percy Jackson Collection</td>\n",
       "      <td>106.0</td>\n",
       "      <td>124.417</td>\n",
       "      <td>5.9</td>\n",
       "      <td>3547</td>\n",
       "      <td>Fox 2000 Pictures | Sunswept Entertainment | 1...</td>\n",
       "      <td>90000000.0</td>\n",
       "      <td>199850315.0</td>\n",
       "    </tr>\n",
       "  </tbody>\n",
       "</table>\n",
       "</div>"
      ],
      "text/plain": [
       "                            Title                Collection  Runtime  \\\n",
       "0                        Ad Astra                    Single    123.0   \n",
       "1                       Bloodshot                    Single    110.0   \n",
       "2               Bad Boys for Life       Bad Boys Collection    124.0   \n",
       "3                         Ant-Man        Ant-Man Collection    117.0   \n",
       "4  Percy Jackson: Sea of Monsters  Percy Jackson Collection    106.0   \n",
       "\n",
       "   Popularity  Rating_average  Rating_Count  \\\n",
       "0     463.487             5.9          2863   \n",
       "1     235.701             7.2          1384   \n",
       "2     255.068             7.1          2596   \n",
       "3     134.294             7.1         13625   \n",
       "4     124.417             5.9          3547   \n",
       "\n",
       "                                Production_Companies       Budget      Revenue  \n",
       "0  New Regency Productions | Keep Your Head | Mad...   87500000.0  127175922.0  \n",
       "1  Sony Pictures | Cross Creek Pictures | Mimran ...   42000000.0   24573617.0  \n",
       "2  Columbia Pictures | Platinum Dunes | 2.0 Enter...          0.0  191150000.0  \n",
       "3                                     Marvel Studios  130000000.0  519311965.0  \n",
       "4  Fox 2000 Pictures | Sunswept Entertainment | 1...   90000000.0  199850315.0  "
      ]
     },
     "execution_count": 6,
     "metadata": {},
     "output_type": "execute_result"
    }
   ],
   "source": [
    "tmdb.head()"
   ]
  },
  {
   "cell_type": "code",
   "execution_count": 7,
   "id": "c686f3e6-af49-4665-a844-562246a70036",
   "metadata": {},
   "outputs": [
    {
     "data": {
      "text/plain": [
       "(10000, 9)"
      ]
     },
     "execution_count": 7,
     "metadata": {},
     "output_type": "execute_result"
    }
   ],
   "source": [
    "tmdb.shape"
   ]
  },
  {
   "cell_type": "code",
   "execution_count": 8,
   "id": "660bc037-de15-4f0f-b090-669fbaa88e62",
   "metadata": {},
   "outputs": [
    {
     "name": "stdout",
     "output_type": "stream",
     "text": [
      "<class 'pandas.core.frame.DataFrame'>\n",
      "RangeIndex: 10000 entries, 0 to 9999\n",
      "Data columns (total 9 columns):\n",
      " #   Column                Non-Null Count  Dtype  \n",
      "---  ------                --------------  -----  \n",
      " 0   Title                 10000 non-null  object \n",
      " 1   Collection            9999 non-null   object \n",
      " 2   Runtime               9986 non-null   float64\n",
      " 3   Popularity            10000 non-null  float64\n",
      " 4   Rating_average        10000 non-null  float64\n",
      " 5   Rating_Count          10000 non-null  int64  \n",
      " 6   Production_Companies  9697 non-null   object \n",
      " 7   Budget                9999 non-null   float64\n",
      " 8   Revenue               9999 non-null   float64\n",
      "dtypes: float64(5), int64(1), object(3)\n",
      "memory usage: 703.2+ KB\n"
     ]
    }
   ],
   "source": [
    "tmdb.info()"
   ]
  },
  {
   "cell_type": "markdown",
   "id": "a25045a0-32e9-4501-af89-e287d1d6b078",
   "metadata": {},
   "source": [
    "Now we notice that there are columns with non-existent values, for now, we can just remove and clean these observations from our dataset. "
   ]
  },
  {
   "cell_type": "code",
   "execution_count": 9,
   "id": "a20ce377-8bad-4eeb-bd84-8b49ee37f789",
   "metadata": {},
   "outputs": [],
   "source": [
    "tmdb.dropna(subset=['Collection', 'Runtime', 'Production_Companies', 'Budget', 'Revenue'], inplace=True)"
   ]
  },
  {
   "cell_type": "markdown",
   "id": "c7b3e303-15c5-4ea8-bfac-5934a95cb6a2",
   "metadata": {},
   "source": [
    "Counting the amount of zeroes in our numerical columns and removing them. There are other ways to handle and preprocess this issue, but complex methods like imputation may not be suitable for this problem as the missing data makes up a significant portion of the whole dataset, and it may remove the integrity and unbiasedness of the model's prediction."
   ]
  },
  {
   "cell_type": "code",
   "execution_count": 10,
   "id": "199e6762-4ffa-4d4e-aebc-eab75d2f38ed",
   "metadata": {},
   "outputs": [
    {
     "data": {
      "text/plain": [
       "Title                      0\n",
       "Collection                 0\n",
       "Runtime                  140\n",
       "Popularity                 0\n",
       "Rating_average           159\n",
       "Rating_Count             159\n",
       "Production_Companies       0\n",
       "Budget                  3923\n",
       "Revenue                 3945\n",
       "dtype: int64"
      ]
     },
     "execution_count": 10,
     "metadata": {},
     "output_type": "execute_result"
    }
   ],
   "source": [
    "tmdb.eq(0).sum()"
   ]
  },
  {
   "cell_type": "code",
   "execution_count": 12,
   "id": "aef4b178-a968-49ad-8023-6d6031d42398",
   "metadata": {},
   "outputs": [],
   "source": [
    "tmdb = tmdb[(tmdb['Revenue'] != 0) & (tmdb['Budget'] != 0)]"
   ]
  },
  {
   "cell_type": "code",
   "execution_count": 13,
   "id": "7eebb005-6441-4de4-b52c-6a92e5cda3ee",
   "metadata": {},
   "outputs": [
    {
     "data": {
      "text/plain": [
       "Title                   0\n",
       "Collection              0\n",
       "Runtime                 0\n",
       "Popularity              0\n",
       "Rating_average          0\n",
       "Rating_Count            0\n",
       "Production_Companies    0\n",
       "Budget                  0\n",
       "Revenue                 0\n",
       "dtype: int64"
      ]
     },
     "execution_count": 13,
     "metadata": {},
     "output_type": "execute_result"
    }
   ],
   "source": [
    "tmdb.eq(0).sum()"
   ]
  },
  {
   "cell_type": "code",
   "execution_count": 14,
   "id": "38f41254-c3ef-46fc-94d6-e2859978322f",
   "metadata": {},
   "outputs": [],
   "source": [
    "tmdb_num = tmdb.select_dtypes(include=[int, float])\n",
    "tmdb_cat = tmdb.select_dtypes(include=['category', 'object'])"
   ]
  },
  {
   "cell_type": "markdown",
   "id": "c67fac37-eb0b-4280-9ac3-a0bdd05c817e",
   "metadata": {},
   "source": [
    "### Numerical Analysis\n",
    "\n",
    "Onto the numerical analysis, here, we explore the distribution and central tendency of our numerical features."
   ]
  },
  {
   "cell_type": "code",
   "execution_count": 15,
   "id": "9079c374-3b2e-40e8-8adc-b6b9df015f86",
   "metadata": {},
   "outputs": [
    {
     "data": {
      "text/html": [
       "<div>\n",
       "<style scoped>\n",
       "    .dataframe tbody tr th:only-of-type {\n",
       "        vertical-align: middle;\n",
       "    }\n",
       "\n",
       "    .dataframe tbody tr th {\n",
       "        vertical-align: top;\n",
       "    }\n",
       "\n",
       "    .dataframe thead th {\n",
       "        text-align: right;\n",
       "    }\n",
       "</style>\n",
       "<table border=\"1\" class=\"dataframe\">\n",
       "  <thead>\n",
       "    <tr style=\"text-align: right;\">\n",
       "      <th></th>\n",
       "      <th>Runtime</th>\n",
       "      <th>Popularity</th>\n",
       "      <th>Rating_average</th>\n",
       "      <th>Rating_Count</th>\n",
       "      <th>Budget</th>\n",
       "      <th>Revenue</th>\n",
       "    </tr>\n",
       "  </thead>\n",
       "  <tbody>\n",
       "    <tr>\n",
       "      <th>count</th>\n",
       "      <td>4771.000000</td>\n",
       "      <td>4771.000000</td>\n",
       "      <td>4771.000000</td>\n",
       "      <td>4771.000000</td>\n",
       "      <td>4.771000e+03</td>\n",
       "      <td>4.771000e+03</td>\n",
       "    </tr>\n",
       "    <tr>\n",
       "      <th>mean</th>\n",
       "      <td>110.511842</td>\n",
       "      <td>15.378307</td>\n",
       "      <td>6.514337</td>\n",
       "      <td>1828.896458</td>\n",
       "      <td>3.689554e+07</td>\n",
       "      <td>1.126694e+08</td>\n",
       "    </tr>\n",
       "    <tr>\n",
       "      <th>std</th>\n",
       "      <td>20.844649</td>\n",
       "      <td>12.321273</td>\n",
       "      <td>0.842906</td>\n",
       "      <td>2628.145588</td>\n",
       "      <td>4.345517e+07</td>\n",
       "      <td>1.918481e+08</td>\n",
       "    </tr>\n",
       "    <tr>\n",
       "      <th>min</th>\n",
       "      <td>26.000000</td>\n",
       "      <td>4.905000</td>\n",
       "      <td>2.600000</td>\n",
       "      <td>4.000000</td>\n",
       "      <td>1.000000e+00</td>\n",
       "      <td>5.000000e+00</td>\n",
       "    </tr>\n",
       "    <tr>\n",
       "      <th>25%</th>\n",
       "      <td>96.000000</td>\n",
       "      <td>10.764000</td>\n",
       "      <td>6.000000</td>\n",
       "      <td>360.500000</td>\n",
       "      <td>9.000000e+06</td>\n",
       "      <td>1.500000e+07</td>\n",
       "    </tr>\n",
       "    <tr>\n",
       "      <th>50%</th>\n",
       "      <td>107.000000</td>\n",
       "      <td>12.696000</td>\n",
       "      <td>6.500000</td>\n",
       "      <td>852.000000</td>\n",
       "      <td>2.200000e+07</td>\n",
       "      <td>4.644253e+07</td>\n",
       "    </tr>\n",
       "    <tr>\n",
       "      <th>75%</th>\n",
       "      <td>121.000000</td>\n",
       "      <td>16.238500</td>\n",
       "      <td>7.100000</td>\n",
       "      <td>2109.000000</td>\n",
       "      <td>4.900000e+07</td>\n",
       "      <td>1.247794e+08</td>\n",
       "    </tr>\n",
       "    <tr>\n",
       "      <th>max</th>\n",
       "      <td>248.000000</td>\n",
       "      <td>463.487000</td>\n",
       "      <td>8.800000</td>\n",
       "      <td>25159.000000</td>\n",
       "      <td>3.800000e+08</td>\n",
       "      <td>2.797801e+09</td>\n",
       "    </tr>\n",
       "  </tbody>\n",
       "</table>\n",
       "</div>"
      ],
      "text/plain": [
       "           Runtime   Popularity  Rating_average  Rating_Count        Budget  \\\n",
       "count  4771.000000  4771.000000     4771.000000   4771.000000  4.771000e+03   \n",
       "mean    110.511842    15.378307        6.514337   1828.896458  3.689554e+07   \n",
       "std      20.844649    12.321273        0.842906   2628.145588  4.345517e+07   \n",
       "min      26.000000     4.905000        2.600000      4.000000  1.000000e+00   \n",
       "25%      96.000000    10.764000        6.000000    360.500000  9.000000e+06   \n",
       "50%     107.000000    12.696000        6.500000    852.000000  2.200000e+07   \n",
       "75%     121.000000    16.238500        7.100000   2109.000000  4.900000e+07   \n",
       "max     248.000000   463.487000        8.800000  25159.000000  3.800000e+08   \n",
       "\n",
       "            Revenue  \n",
       "count  4.771000e+03  \n",
       "mean   1.126694e+08  \n",
       "std    1.918481e+08  \n",
       "min    5.000000e+00  \n",
       "25%    1.500000e+07  \n",
       "50%    4.644253e+07  \n",
       "75%    1.247794e+08  \n",
       "max    2.797801e+09  "
      ]
     },
     "execution_count": 15,
     "metadata": {},
     "output_type": "execute_result"
    }
   ],
   "source": [
    "tmdb.describe()"
   ]
  },
  {
   "cell_type": "code",
   "execution_count": 24,
   "id": "95825aaf-4f30-44ff-a56d-8eae3d952ee4",
   "metadata": {},
   "outputs": [
    {
     "data": {
      "image/png": "[encoded data removed]",
      "text/plain": [
       "<Figure size 1500x1500 with 6 Axes>"
      ]
     },
     "metadata": {},
     "output_type": "display_data"
    }
   ],
   "source": [
    "def plot_dist(df, row, col, size):\n",
    "    fig, ax = plt.subplots(row, col, figsize=size)\n",
    "\n",
    "    ax = ax.ravel()\n",
    "    for i, a in enumerate(ax):\n",
    "        a.hist(df.iloc[:, i], bins=15)\n",
    "        a.set_title(df.columns[i])\n",
    "        \n",
    "plot_dist(tmdb_num, 3, 2, (15, 15))"
   ]
  },
  {
   "cell_type": "markdown",
   "id": "9fe898d0-8846-4ddc-bb06-ec78ffc28a20",
   "metadata": {},
   "source": [
    "### Log Transformation\n",
    "\n",
    "We can see that some of our important numerical features are skewed to the right, namely **Budget, Popularity, and Rating**\n",
    "Then, we're going to use **Log Transformation** to scale the magnitude of these features and to reduce the impact of extreme values."
   ]
  },
  {
   "cell_type": "code",
   "execution_count": 18,
   "id": "15646575-d770-4778-84b7-8c3ec54a73b3",
   "metadata": {},
   "outputs": [],
   "source": [
    "scaled_features = ['Popularity', 'Rating_Count', 'Budget']\n",
    "\n",
    "log_transformed_tmdb = np.log1p(tmdb[scaled_features])"
   ]
  },
  {
   "cell_type": "code",
   "execution_count": 25,
   "id": "94a865bd-c5ab-4d25-8368-ff6f4a7404d7",
   "metadata": {},
   "outputs": [
    {
     "data": {
      "image/png": "[encoded data removed]",
      "text/plain": [
       "<Figure size 2000x500 with 3 Axes>"
      ]
     },
     "metadata": {},
     "output_type": "display_data"
    }
   ],
   "source": [
    "plot_dist(log_transformed_tmdb, 1, 3, (20, 5))"
   ]
  },
  {
   "cell_type": "code",
   "execution_count": 26,
   "id": "7bf00efd-dbe1-4b4d-ad62-b54e0e961ffc",
   "metadata": {},
   "outputs": [],
   "source": [
    "tmdb.drop(columns=scaled_features, inplace=True)\n",
    "tmdb = pd.concat([tmdb, log_transformed_tmdb], axis=1)"
   ]
  },
  {
   "cell_type": "markdown",
   "id": "1f266bde-060c-4333-8fef-3d6f120a1ebd",
   "metadata": {},
   "source": [
    "### Normalization"
   ]
  },
  {
   "cell_type": "code",
   "execution_count": 29,
   "id": "044823fe-2fc5-4e9d-99f7-a274289a86b1",
   "metadata": {},
   "outputs": [
    {
     "data": {
      "text/html": [
       "<div>\n",
       "<style scoped>\n",
       "    .dataframe tbody tr th:only-of-type {\n",
       "        vertical-align: middle;\n",
       "    }\n",
       "\n",
       "    .dataframe tbody tr th {\n",
       "        vertical-align: top;\n",
       "    }\n",
       "\n",
       "    .dataframe thead th {\n",
       "        text-align: right;\n",
       "    }\n",
       "</style>\n",
       "<table border=\"1\" class=\"dataframe\">\n",
       "  <thead>\n",
       "    <tr style=\"text-align: right;\">\n",
       "      <th></th>\n",
       "      <th>Runtime</th>\n",
       "      <th>Rating_average</th>\n",
       "      <th>Revenue</th>\n",
       "      <th>Popularity</th>\n",
       "      <th>Rating_Count</th>\n",
       "      <th>Budget</th>\n",
       "    </tr>\n",
       "  </thead>\n",
       "  <tbody>\n",
       "    <tr>\n",
       "      <th>count</th>\n",
       "      <td>4771.000000</td>\n",
       "      <td>4771.000000</td>\n",
       "      <td>4771.000000</td>\n",
       "      <td>4771.000000</td>\n",
       "      <td>4771.000000</td>\n",
       "      <td>4771.000000</td>\n",
       "    </tr>\n",
       "    <tr>\n",
       "      <th>mean</th>\n",
       "      <td>0.380684</td>\n",
       "      <td>0.631345</td>\n",
       "      <td>0.040271</td>\n",
       "      <td>0.211463</td>\n",
       "      <td>0.607887</td>\n",
       "      <td>0.837980</td>\n",
       "    </tr>\n",
       "    <tr>\n",
       "      <th>std</th>\n",
       "      <td>0.093895</td>\n",
       "      <td>0.135953</td>\n",
       "      <td>0.068571</td>\n",
       "      <td>0.087184</td>\n",
       "      <td>0.142482</td>\n",
       "      <td>0.086580</td>\n",
       "    </tr>\n",
       "    <tr>\n",
       "      <th>min</th>\n",
       "      <td>0.000000</td>\n",
       "      <td>0.000000</td>\n",
       "      <td>0.000000</td>\n",
       "      <td>0.000000</td>\n",
       "      <td>0.000000</td>\n",
       "      <td>0.000000</td>\n",
       "    </tr>\n",
       "    <tr>\n",
       "      <th>25%</th>\n",
       "      <td>0.315315</td>\n",
       "      <td>0.548387</td>\n",
       "      <td>0.005361</td>\n",
       "      <td>0.157898</td>\n",
       "      <td>0.502233</td>\n",
       "      <td>0.803649</td>\n",
       "    </tr>\n",
       "    <tr>\n",
       "      <th>50%</th>\n",
       "      <td>0.364865</td>\n",
       "      <td>0.629032</td>\n",
       "      <td>0.016600</td>\n",
       "      <td>0.192733</td>\n",
       "      <td>0.602954</td>\n",
       "      <td>0.850538</td>\n",
       "    </tr>\n",
       "    <tr>\n",
       "      <th>75%</th>\n",
       "      <td>0.427928</td>\n",
       "      <td>0.725806</td>\n",
       "      <td>0.044599</td>\n",
       "      <td>0.245432</td>\n",
       "      <td>0.709210</td>\n",
       "      <td>0.892546</td>\n",
       "    </tr>\n",
       "    <tr>\n",
       "      <th>max</th>\n",
       "      <td>1.000000</td>\n",
       "      <td>1.000000</td>\n",
       "      <td>1.000000</td>\n",
       "      <td>1.000000</td>\n",
       "      <td>1.000000</td>\n",
       "      <td>1.000000</td>\n",
       "    </tr>\n",
       "  </tbody>\n",
       "</table>\n",
       "</div>"
      ],
      "text/plain": [
       "           Runtime  Rating_average      Revenue   Popularity  Rating_Count  \\\n",
       "count  4771.000000     4771.000000  4771.000000  4771.000000   4771.000000   \n",
       "mean      0.380684        0.631345     0.040271     0.211463      0.607887   \n",
       "std       0.093895        0.135953     0.068571     0.087184      0.142482   \n",
       "min       0.000000        0.000000     0.000000     0.000000      0.000000   \n",
       "25%       0.315315        0.548387     0.005361     0.157898      0.502233   \n",
       "50%       0.364865        0.629032     0.016600     0.192733      0.602954   \n",
       "75%       0.427928        0.725806     0.044599     0.245432      0.709210   \n",
       "max       1.000000        1.000000     1.000000     1.000000      1.000000   \n",
       "\n",
       "            Budget  \n",
       "count  4771.000000  \n",
       "mean      0.837980  \n",
       "std       0.086580  \n",
       "min       0.000000  \n",
       "25%       0.803649  \n",
       "50%       0.850538  \n",
       "75%       0.892546  \n",
       "max       1.000000  "
      ]
     },
     "execution_count": 29,
     "metadata": {},
     "output_type": "execute_result"
    }
   ],
   "source": [
    "from sklearn.preprocessing import MinMaxScaler\n",
    "\n",
    "scaler = MinMaxScaler()\n",
    "\n",
    "tmdb[tmdb_num.columns] = scaler.fit_transform(tmdb[tmdb_num.columns])\n",
    "tmdb.describe()"
   ]
  },
  {
   "cell_type": "markdown",
   "id": "db4725d9-f705-494f-acb9-120ec36eeacd",
   "metadata": {},
   "source": [
    "### Categorical Features Handling\n",
    "\n",
    "**Collection**\n",
    "\n",
    "Collection explains whether a movie is a part of an ongoing franchise / trilogy / saga / series. We suspect if a film is produced to be a part of a greater franchise, it'll make more money since there's either financial or critical receptions buzzing around the movie."
   ]
  },
  {
   "cell_type": "code",
   "execution_count": 31,
   "id": "5938719a-3fd1-4a1f-a311-8f5c6596f794",
   "metadata": {},
   "outputs": [],
   "source": [
    "tmdb['Collection'] = tmdb['Collection'].apply(lambda val: 0 if val == 'Single' else 1)"
   ]
  },
  {
   "cell_type": "markdown",
   "id": "7e56e3c6-57f0-44e3-bd96-085dbe14b72e",
   "metadata": {},
   "source": [
    "**Production Companies**\n",
    "\n",
    "We all know that production companies play a huge role in filmmaking, from resources and budget to marketing strategies, getting your film funded by the film giants is one of the most important aspects in getting your film's popularity to the roof."
   ]
  },
  {
   "cell_type": "code",
   "execution_count": 32,
   "id": "56a4f8ab-adfe-4be9-92ba-00c33dea02bc",
   "metadata": {},
   "outputs": [
    {
     "name": "stdout",
     "output_type": "stream",
     "text": [
      "Amount of movies produced by Columbia: 339\n",
      "Amount of movies produced by Paramount: 359\n",
      "Amount of movies produced by Universal Pictures: 417\n",
      "Amount of movies produced by 20th Century: 307\n",
      "Amount of movies produced by Lionsgate: 89\n",
      "Amount of movies produced by Sony Pictures: 131\n",
      "Amount of movies produced by Disney: 180\n",
      "Amount of movies produced by DreamWorks: 129\n",
      "Amount of movies produced by New Line: 181\n",
      "Amount of movies produced by Warner Bros: 456\n",
      "Amount of movies produced by Metro-Goldwyn-Mayer: 139\n",
      "Amount of movies produced by Marvel: 50\n"
     ]
    }
   ],
   "source": [
    "major_prod_comps = set(['Sony Pictures', 'Warner Bros', 'Disney', 'Columbia',\n",
    "                          'Universal Pictures', 'Paramount', 'New Line', '20th Century',\n",
    "                          'Metro-Goldwyn-Mayer', 'Lionsgate', 'DreamWorks', 'Marvel'])\n",
    "\n",
    "for comp in major_prod_comps:\n",
    "    amnt = len(tmdb[tmdb['Production_Companies'].str.contains(comp, regex=True)])\n",
    "    print(f'Amount of movies produced by {comp}: {amnt}')"
   ]
  },
  {
   "cell_type": "code",
   "execution_count": 36,
   "id": "00661914-7af1-4af3-8833-837c63da0d2f",
   "metadata": {},
   "outputs": [],
   "source": [
    "def does_contain(s, comps):\n",
    "    for comp in comps:\n",
    "        if re.search(comp, s):\n",
    "            return 1\n",
    "    return 0\n",
    "\n",
    "tmdb['Big_Production_Company'] = tmdb['Production_Companies'].apply(lambda val: does_contain(val, major_prod_comps))"
   ]
  },
  {
   "cell_type": "markdown",
   "id": "45f2cc9d-c8d5-4590-b5d4-ba811c1a7246",
   "metadata": {},
   "source": [
    "**Successful (Target Variable)**\n",
    "\n",
    "We're going to label whether a film is successful or not with the logic: <br>\n",
    "*If a movie is in the top 1000 highest grossing, then we set **success** as 1, else 0*"
   ]
  },
  {
   "cell_type": "code",
   "execution_count": 37,
   "id": "83881b9c-5301-4bcc-8010-7c6448b7ebfd",
   "metadata": {},
   "outputs": [],
   "source": [
    "successful_titles = set(hgmb['Title'])\n",
    "\n",
    "tmdb['Successful'] = tmdb['Title'].apply(lambda title: 1 if title in successful_titles else 0)"
   ]
  },
  {
   "cell_type": "code",
   "execution_count": 38,
   "id": "a6d66634-70d2-4f9f-821d-b0b1c28e0789",
   "metadata": {},
   "outputs": [
    {
     "name": "stdout",
     "output_type": "stream",
     "text": [
      "Amount of parsed successful titles: 866\n",
      "Amount of total successful titles: 911\n"
     ]
    }
   ],
   "source": [
    "tmdb_successful = tmdb[tmdb['Successful'] == 1]\n",
    "\n",
    "print(f'Amount of parsed successful titles: {len(tmdb_successful)}')\n",
    "print(f'Amount of total successful titles: {len(successful_titles)}')"
   ]
  },
  {
   "cell_type": "markdown",
   "id": "67cd9f67-c778-4eb7-af83-875da21d41d4",
   "metadata": {},
   "source": [
    "### Final DataFrame\n",
    "\n",
    "Dropping columns that are no-longer used. Revenue is removed because we already label each film with the success column"
   ]
  },
  {
   "cell_type": "code",
   "execution_count": 43,
   "id": "371cc041-ece5-49b8-b0d2-730677acfae8",
   "metadata": {},
   "outputs": [],
   "source": [
    "df = tmdb.drop(columns=['Title', 'Production_Companies', 'Revenue'])"
   ]
  },
  {
   "cell_type": "code",
   "execution_count": 44,
   "id": "26097d2c-2ebd-449d-b4a3-2d5a652b71a9",
   "metadata": {},
   "outputs": [
    {
     "data": {
      "text/html": [
       "<div>\n",
       "<style scoped>\n",
       "    .dataframe tbody tr th:only-of-type {\n",
       "        vertical-align: middle;\n",
       "    }\n",
       "\n",
       "    .dataframe tbody tr th {\n",
       "        vertical-align: top;\n",
       "    }\n",
       "\n",
       "    .dataframe thead th {\n",
       "        text-align: right;\n",
       "    }\n",
       "</style>\n",
       "<table border=\"1\" class=\"dataframe\">\n",
       "  <thead>\n",
       "    <tr style=\"text-align: right;\">\n",
       "      <th></th>\n",
       "      <th>Collection</th>\n",
       "      <th>Runtime</th>\n",
       "      <th>Rating_average</th>\n",
       "      <th>Popularity</th>\n",
       "      <th>Rating_Count</th>\n",
       "      <th>Budget</th>\n",
       "      <th>Big_Production_Company</th>\n",
       "      <th>Successful</th>\n",
       "    </tr>\n",
       "  </thead>\n",
       "  <tbody>\n",
       "    <tr>\n",
       "      <th>0</th>\n",
       "      <td>0</td>\n",
       "      <td>0.436937</td>\n",
       "      <td>0.532258</td>\n",
       "      <td>1.000000</td>\n",
       "      <td>0.745056</td>\n",
       "      <td>0.922962</td>\n",
       "      <td>0</td>\n",
       "      <td>0</td>\n",
       "    </tr>\n",
       "    <tr>\n",
       "      <th>1</th>\n",
       "      <td>0</td>\n",
       "      <td>0.378378</td>\n",
       "      <td>0.741935</td>\n",
       "      <td>0.845564</td>\n",
       "      <td>0.659819</td>\n",
       "      <td>0.884459</td>\n",
       "      <td>1</td>\n",
       "      <td>0</td>\n",
       "    </tr>\n",
       "    <tr>\n",
       "      <th>3</th>\n",
       "      <td>1</td>\n",
       "      <td>0.409910</td>\n",
       "      <td>0.725806</td>\n",
       "      <td>0.717424</td>\n",
       "      <td>0.928049</td>\n",
       "      <td>0.943731</td>\n",
       "      <td>1</td>\n",
       "      <td>1</td>\n",
       "    </tr>\n",
       "    <tr>\n",
       "      <th>4</th>\n",
       "      <td>1</td>\n",
       "      <td>0.360360</td>\n",
       "      <td>0.532258</td>\n",
       "      <td>0.700057</td>\n",
       "      <td>0.770182</td>\n",
       "      <td>0.924440</td>\n",
       "      <td>1</td>\n",
       "      <td>0</td>\n",
       "    </tr>\n",
       "    <tr>\n",
       "      <th>5</th>\n",
       "      <td>0</td>\n",
       "      <td>0.373874</td>\n",
       "      <td>0.725806</td>\n",
       "      <td>0.799495</td>\n",
       "      <td>0.737353</td>\n",
       "      <td>0.914876</td>\n",
       "      <td>1</td>\n",
       "      <td>0</td>\n",
       "    </tr>\n",
       "  </tbody>\n",
       "</table>\n",
       "</div>"
      ],
      "text/plain": [
       "   Collection   Runtime  Rating_average  Popularity  Rating_Count    Budget  \\\n",
       "0           0  0.436937        0.532258    1.000000      0.745056  0.922962   \n",
       "1           0  0.378378        0.741935    0.845564      0.659819  0.884459   \n",
       "3           1  0.409910        0.725806    0.717424      0.928049  0.943731   \n",
       "4           1  0.360360        0.532258    0.700057      0.770182  0.924440   \n",
       "5           0  0.373874        0.725806    0.799495      0.737353  0.914876   \n",
       "\n",
       "   Big_Production_Company  Successful  \n",
       "0                       0           0  \n",
       "1                       1           0  \n",
       "3                       1           1  \n",
       "4                       1           0  \n",
       "5                       1           0  "
      ]
     },
     "execution_count": 44,
     "metadata": {},
     "output_type": "execute_result"
    }
   ],
   "source": [
    "df.head()"
   ]
  },
  {
   "cell_type": "code",
   "execution_count": 45,
   "id": "af8e4dd0-18dd-492a-a578-ae51ddb1240f",
   "metadata": {},
   "outputs": [],
   "source": [
    "target = 'Successful'\n",
    "features = [col for col in df.columns if col != target]"
   ]
  },
  {
   "cell_type": "markdown",
   "id": "7b99cb95-9aa4-4970-bee6-f03894578126",
   "metadata": {},
   "source": [
    "## Machine Learning Models Experimentation\n",
    "\n",
    "We're going to experiment with three different supervised machine learning algorithms to test out their performances (Decision Tree, Random Forest, and Gradient Boosted Trees)."
   ]
  },
  {
   "cell_type": "code",
   "execution_count": 46,
   "id": "6c6df22c-8e3d-4454-9fb9-9d8b4e2beef6",
   "metadata": {},
   "outputs": [],
   "source": [
    "from sklearn.tree import DecisionTreeClassifier\n",
    "from sklearn.ensemble import RandomForestClassifier, GradientBoostingClassifier\n",
    "from sklearn.model_selection import train_test_split, GridSearchCV\n",
    "from sklearn.metrics import accuracy_score, classification_report, roc_auc_score"
   ]
  },
  {
   "cell_type": "code",
   "execution_count": 47,
   "id": "cc59e910-57eb-46e1-8eb3-6a871f3a7225",
   "metadata": {},
   "outputs": [],
   "source": [
    "X_train, X_test, y_train, y_test = train_test_split(df[features], df[target], train_size=0.8)"
   ]
  },
  {
   "cell_type": "code",
   "execution_count": 48,
   "id": "a90ff482-1350-4af8-993b-1ba87ffa969e",
   "metadata": {},
   "outputs": [
    {
     "name": "stdout",
     "output_type": "stream",
     "text": [
      "(3816, 7)\n",
      "(955, 7)\n",
      "(3816,)\n",
      "(955,)\n"
     ]
    }
   ],
   "source": [
    "print(X_train.shape)\n",
    "print(X_test.shape)\n",
    "print(y_train.shape)\n",
    "print(y_test.shape)"
   ]
  },
  {
   "cell_type": "markdown",
   "id": "65f2bbe6-2eeb-4fcc-aefd-3f9edec9acf7",
   "metadata": {},
   "source": [
    "We'll use accuracy and area under curve to measure the models' performance."
   ]
  },
  {
   "cell_type": "code",
   "execution_count": 49,
   "id": "a8f9f82b-16a8-4934-b194-991169ead364",
   "metadata": {},
   "outputs": [],
   "source": [
    "def train_predict(model, sample_size, X_train, y_train, X_test, y_test): \n",
    "    results = {}\n",
    "    \n",
    "    # Training\n",
    "    start = time()\n",
    "    model = model.fit(X_train[:int(X_train.shape[0]*sample_size)], y_train[:int(X_train.shape[0]*sample_size)])\n",
    "    end = time()\n",
    "    results['train_time'] = end - start\n",
    "    \n",
    "    # Testing\n",
    "    start = time() \n",
    "    predictions_test = model.predict(X_test)\n",
    "    predictions_train = model.predict(X_train[:300])\n",
    "    end = time() \n",
    "    \n",
    "    results['pred_time'] = end - start\n",
    "            \n",
    "    results['acc_train'] = accuracy_score(y_train[:300], predictions_train)\n",
    "        \n",
    "    results['acc_test'] = accuracy_score(y_test, predictions_test)\n",
    "    \n",
    "    results['auc_train'] = roc_auc_score(y_train[:300], predictions_train)\n",
    "        \n",
    "    results['auc_test'] = roc_auc_score(y_test, predictions_test)\n",
    "       \n",
    "    print(\"{} trained on {} samples.\".format(model.__class__.__name__, sample_size))\n",
    "        \n",
    "    return results"
   ]
  },
  {
   "cell_type": "code",
   "execution_count": 56,
   "id": "c22f0ccd-326b-43e3-a47e-c8c2d5c43898",
   "metadata": {},
   "outputs": [],
   "source": [
    "RANDOM_STATE = 42\n",
    "\n",
    "clf_A = DecisionTreeClassifier(random_state=RANDOM_STATE)\n",
    "clf_B = RandomForestClassifier(random_state=RANDOM_STATE)\n",
    "clf_C = GradientBoostingClassifier(random_state=RANDOM_STATE)"
   ]
  },
  {
   "cell_type": "code",
   "execution_count": 57,
   "id": "794fabda-c8eb-43b1-8059-0f881e19e97d",
   "metadata": {},
   "outputs": [],
   "source": [
    "samples_100 = len(y_train)\n",
    "samples_10 = 0.5 * len(y_train)\n",
    "samples_1 = 0.1 * len(y_train)"
   ]
  },
  {
   "cell_type": "code",
   "execution_count": 58,
   "id": "7db0e73f-3082-4b10-8181-7c30f445483f",
   "metadata": {},
   "outputs": [
    {
     "name": "stdout",
     "output_type": "stream",
     "text": [
      "DecisionTreeClassifier trained on 381.6 samples.\n",
      "DecisionTreeClassifier trained on 1908.0 samples.\n",
      "DecisionTreeClassifier trained on 3816 samples.\n",
      "RandomForestClassifier trained on 381.6 samples.\n",
      "RandomForestClassifier trained on 1908.0 samples.\n",
      "RandomForestClassifier trained on 3816 samples.\n",
      "GradientBoostingClassifier trained on 381.6 samples.\n",
      "GradientBoostingClassifier trained on 1908.0 samples.\n",
      "GradientBoostingClassifier trained on 3816 samples.\n"
     ]
    }
   ],
   "source": [
    "results = {}\n",
    "for clf in [clf_A, clf_B, clf_C]:\n",
    "    clf_name = clf.__class__.__name__\n",
    "    results[clf_name] = {}\n",
    "    for i, samples in enumerate([samples_1, samples_10, samples_100]):\n",
    "        results[clf_name][i] = train_predict(clf, samples, X_train, y_train, X_test, y_test)"
   ]
  },
  {
   "cell_type": "code",
   "execution_count": 59,
   "id": "e1eb0dfb-37cc-453d-9e7b-bd6179431c96",
   "metadata": {},
   "outputs": [],
   "source": [
    "def evaluation(results):\n",
    "    import matplotlib.patches as mpatches\n",
    "\n",
    "    fig, ax = plt.subplots(2, 3, figsize = (11,7))\n",
    "    bar_width = 0.3\n",
    "    colors = ['dodgerblue','blue','darkblue']\n",
    "    \n",
    "    for k, learner in enumerate(results.keys()):\n",
    "        for j, metric in enumerate(['train_time', 'acc_train', 'auc_train', 'pred_time', 'acc_test', 'auc_test']):\n",
    "            for i in np.arange(3):\n",
    "                \n",
    "                ax[j//3, j%3].bar(i + k * bar_width, results[learner][i][metric], width=bar_width, color=colors[k])\n",
    "                ax[j//3, j%3].set_xticks([0.45, 1.45, 2.45])\n",
    "                ax[j//3, j%3].set_xticklabels([\"1%\", \"10%\", \"100%\"])\n",
    "                ax[j//3, j%3].set_xlabel(\"Training Set Size\")\n",
    "                ax[j//3, j%3].set_xlim((-0.1, 3.0))\n",
    "    \n",
    "    ax[0, 0].set_ylabel(\"Time (in seconds)\")\n",
    "    ax[0, 1].set_ylabel(\"Accuracy Score\")\n",
    "    ax[0, 2].set_ylabel(\"AUC\")\n",
    "    ax[1, 0].set_ylabel(\"Time (in seconds)\")\n",
    "    ax[1, 1].set_ylabel(\"Accuracy Score\")\n",
    "    ax[1, 2].set_ylabel(\"AUC\")\n",
    "    \n",
    "    ax[0, 0].set_title(\"Model Training\")\n",
    "    ax[0, 1].set_title(\"Accuracy Score on Training Subset\")\n",
    "    ax[0, 2].set_title(\"AUC on Training Subset\")\n",
    "    ax[1, 0].set_title(\"Model Predicting\")\n",
    "    ax[1, 1].set_title(\"Accuracy Score on Testing Set\")\n",
    "    ax[1, 2].set_title(\"AUC on Testing Set\")\n",
    "\n",
    "\n",
    "    ax[0, 1].set_ylim((0, 1))\n",
    "    ax[0, 2].set_ylim((0, 1))\n",
    "    ax[1, 1].set_ylim((0, 1))\n",
    "    ax[1, 2].set_ylim((0, 1))\n",
    "    plt.tight_layout()\n",
    "\n",
    "    patches = []\n",
    "    for i, learner in enumerate(results.keys()):\n",
    "        patches.append(mpatches.Patch(color = colors[i], label = learner))\n",
    "    plt.legend(handles = patches, bbox_to_anchor = (-.80, 2.53), \\\n",
    "               loc = 'upper center', borderaxespad = 0., ncol = 3, fontsize = 'x-large')\n",
    "    \n",
    "    plt.show()"
   ]
  },
  {
   "cell_type": "code",
   "execution_count": 60,
   "id": "846c8bac-d8d2-41ab-aa13-c02233e908f0",
   "metadata": {},
   "outputs": [
    {
     "data": {
      "image/png": "[encoded data removed]",
      "text/plain": [
       "<Figure size 1100x700 with 6 Axes>"
      ]
     },
     "metadata": {},
     "output_type": "display_data"
    }
   ],
   "source": [
    "evaluation(results)"
   ]
  },
  {
   "cell_type": "markdown",
   "id": "02881fa7-a9ea-4906-8623-b813654d5d3c",
   "metadata": {},
   "source": [
    "From the above evaluation visualization, we can conclude that:\n",
    "\n",
    "1. Gradient Boosted Trees is the best algorithm in this situation since the other two suffer from overfitting.\n",
    "2. Despite Decision Tree and Random Forest is fairly pretty quick in terms of their model training, Gradient Boosted Trees is still fairly pretty quick, so time is not the highest priority in this context."
   ]
  },
  {
   "cell_type": "markdown",
   "id": "478af03f-7601-478f-9c0e-67f6d06eb06b",
   "metadata": {},
   "source": [
    "## Hyperparameters Tuning\n",
    "\n",
    "After choosing Gradient Boosting Trees as the best model, then we can proceed with hyperparameters tuning to get the best estimated parameters to build the final model. We're using GridSearchCV instead of RandomizedSearchCV because our dataset is pretty small."
   ]
  },
  {
   "cell_type": "code",
   "execution_count": 61,
   "id": "3a873375-857e-4c21-ad86-3b33b4375b62",
   "metadata": {},
   "outputs": [],
   "source": [
    "model_params = {\n",
    "    'n_estimators': [100, 200, 300],\n",
    "    'max_depth': [3, 4, 6, 8],\n",
    "    'learning_rate': [0.1, 0.5, 1],\n",
    "    'min_impurity_decrease': [0.1, 0.3]\n",
    "}\n",
    "\n",
    "clf =  GridSearchCV(GradientBoostingClassifier(random_state=RANDOM_STATE), model_params)"
   ]
  },
  {
   "cell_type": "code",
   "execution_count": 62,
   "id": "b15f3a6d-efce-41ec-a9a6-3606f8667758",
   "metadata": {},
   "outputs": [
    {
     "data": {
      "text/html": [
       "<style>#sk-container-id-1 {color: black;}#sk-container-id-1 pre{padding: 0;}#sk-container-id-1 div.sk-toggleable {background-color: white;}#sk-container-id-1 label.sk-toggleable__label {cursor: pointer;display: block;width: 100%;margin-bottom: 0;padding: 0.3em;box-sizing: border-box;text-align: center;}#sk-container-id-1 label.sk-toggleable__label-arrow:before {content: \"▸\";float: left;margin-right: 0.25em;color: #696969;}#sk-container-id-1 label.sk-toggleable__label-arrow:hover:before {color: black;}#sk-container-id-1 div.sk-estimator:hover label.sk-toggleable__label-arrow:before {color: black;}#sk-container-id-1 div.sk-toggleable__content {max-height: 0;max-width: 0;overflow: hidden;text-align: left;background-color: #f0f8ff;}#sk-container-id-1 div.sk-toggleable__content pre {margin: 0.2em;color: black;border-radius: 0.25em;background-color: #f0f8ff;}#sk-container-id-1 input.sk-toggleable__control:checked~div.sk-toggleable__content {max-height: 200px;max-width: 100%;overflow: auto;}#sk-container-id-1 input.sk-toggleable__control:checked~label.sk-toggleable__label-arrow:before {content: \"▾\";}#sk-container-id-1 div.sk-estimator input.sk-toggleable__control:checked~label.sk-toggleable__label {background-color: #d4ebff;}#sk-container-id-1 div.sk-label input.sk-toggleable__control:checked~label.sk-toggleable__label {background-color: #d4ebff;}#sk-container-id-1 input.sk-hidden--visually {border: 0;clip: rect(1px 1px 1px 1px);clip: rect(1px, 1px, 1px, 1px);height: 1px;margin: -1px;overflow: hidden;padding: 0;position: absolute;width: 1px;}#sk-container-id-1 div.sk-estimator {font-family: monospace;background-color: #f0f8ff;border: 1px dotted black;border-radius: 0.25em;box-sizing: border-box;margin-bottom: 0.5em;}#sk-container-id-1 div.sk-estimator:hover {background-color: #d4ebff;}#sk-container-id-1 div.sk-parallel-item::after {content: \"\";width: 100%;border-bottom: 1px solid gray;flex-grow: 1;}#sk-container-id-1 div.sk-label:hover label.sk-toggleable__label {background-color: #d4ebff;}#sk-container-id-1 div.sk-serial::before {content: \"\";position: absolute;border-left: 1px solid gray;box-sizing: border-box;top: 0;bottom: 0;left: 50%;z-index: 0;}#sk-container-id-1 div.sk-serial {display: flex;flex-direction: column;align-items: center;background-color: white;padding-right: 0.2em;padding-left: 0.2em;position: relative;}#sk-container-id-1 div.sk-item {position: relative;z-index: 1;}#sk-container-id-1 div.sk-parallel {display: flex;align-items: stretch;justify-content: center;background-color: white;position: relative;}#sk-container-id-1 div.sk-item::before, #sk-container-id-1 div.sk-parallel-item::before {content: \"\";position: absolute;border-left: 1px solid gray;box-sizing: border-box;top: 0;bottom: 0;left: 50%;z-index: -1;}#sk-container-id-1 div.sk-parallel-item {display: flex;flex-direction: column;z-index: 1;position: relative;background-color: white;}#sk-container-id-1 div.sk-parallel-item:first-child::after {align-self: flex-end;width: 50%;}#sk-container-id-1 div.sk-parallel-item:last-child::after {align-self: flex-start;width: 50%;}#sk-container-id-1 div.sk-parallel-item:only-child::after {width: 0;}#sk-container-id-1 div.sk-dashed-wrapped {border: 1px dashed gray;margin: 0 0.4em 0.5em 0.4em;box-sizing: border-box;padding-bottom: 0.4em;background-color: white;}#sk-container-id-1 div.sk-label label {font-family: monospace;font-weight: bold;display: inline-block;line-height: 1.2em;}#sk-container-id-1 div.sk-label-container {text-align: center;}#sk-container-id-1 div.sk-container {/* jupyter's `normalize.less` sets `[hidden] { display: none; }` but bootstrap.min.css set `[hidden] { display: none !important; }` so we also need the `!important` here to be able to override the default hidden behavior on the sphinx rendered scikit-learn.org. See: https://github.com/scikit-learn/scikit-learn/issues/21755 */display: inline-block !important;position: relative;}#sk-container-id-1 div.sk-text-repr-fallback {display: none;}</style><div id=\"sk-container-id-1\" class=\"sk-top-container\"><div class=\"sk-text-repr-fallback\"><pre>GridSearchCV(estimator=GradientBoostingClassifier(random_state=42),\n",
       "             param_grid={&#x27;learning_rate&#x27;: [0.1, 0.5, 1],\n",
       "                         &#x27;max_depth&#x27;: [3, 4, 6, 8],\n",
       "                         &#x27;min_impurity_decrease&#x27;: [0.1, 0.3, 0.5],\n",
       "                         &#x27;n_estimators&#x27;: [50, 100, 200, 300]})</pre><b>In a Jupyter environment, please rerun this cell to show the HTML representation or trust the notebook. <br />On GitHub, the HTML representation is unable to render, please try loading this page with nbviewer.org.</b></div><div class=\"sk-container\" hidden><div class=\"sk-item sk-dashed-wrapped\"><div class=\"sk-label-container\"><div class=\"sk-label sk-toggleable\"><input class=\"sk-toggleable__control sk-hidden--visually\" id=\"sk-estimator-id-1\" type=\"checkbox\" ><label for=\"sk-estimator-id-1\" class=\"sk-toggleable__label sk-toggleable__label-arrow\">GridSearchCV</label><div class=\"sk-toggleable__content\"><pre>GridSearchCV(estimator=GradientBoostingClassifier(random_state=42),\n",
       "             param_grid={&#x27;learning_rate&#x27;: [0.1, 0.5, 1],\n",
       "                         &#x27;max_depth&#x27;: [3, 4, 6, 8],\n",
       "                         &#x27;min_impurity_decrease&#x27;: [0.1, 0.3, 0.5],\n",
       "                         &#x27;n_estimators&#x27;: [50, 100, 200, 300]})</pre></div></div></div><div class=\"sk-parallel\"><div class=\"sk-parallel-item\"><div class=\"sk-item\"><div class=\"sk-label-container\"><div class=\"sk-label sk-toggleable\"><input class=\"sk-toggleable__control sk-hidden--visually\" id=\"sk-estimator-id-2\" type=\"checkbox\" ><label for=\"sk-estimator-id-2\" class=\"sk-toggleable__label sk-toggleable__label-arrow\">estimator: GradientBoostingClassifier</label><div class=\"sk-toggleable__content\"><pre>GradientBoostingClassifier(random_state=42)</pre></div></div></div><div class=\"sk-serial\"><div class=\"sk-item\"><div class=\"sk-estimator sk-toggleable\"><input class=\"sk-toggleable__control sk-hidden--visually\" id=\"sk-estimator-id-3\" type=\"checkbox\" ><label for=\"sk-estimator-id-3\" class=\"sk-toggleable__label sk-toggleable__label-arrow\">GradientBoostingClassifier</label><div class=\"sk-toggleable__content\"><pre>GradientBoostingClassifier(random_state=42)</pre></div></div></div></div></div></div></div></div></div></div>"
      ],
      "text/plain": [
       "GridSearchCV(estimator=GradientBoostingClassifier(random_state=42),\n",
       "             param_grid={'learning_rate': [0.1, 0.5, 1],\n",
       "                         'max_depth': [3, 4, 6, 8],\n",
       "                         'min_impurity_decrease': [0.1, 0.3, 0.5],\n",
       "                         'n_estimators': [50, 100, 200, 300]})"
      ]
     },
     "execution_count": 62,
     "metadata": {},
     "output_type": "execute_result"
    }
   ],
   "source": [
    "clf.fit(X_train, y_train)"
   ]
  },
  {
   "cell_type": "code",
   "execution_count": 63,
   "id": "289e814d-df06-4f8f-85e8-9b1f92c2bd1a",
   "metadata": {},
   "outputs": [
    {
     "name": "stdout",
     "output_type": "stream",
     "text": [
      "Best Score: 0.8875769386480756\n",
      "Best Params: {'learning_rate': 0.1, 'max_depth': 3, 'min_impurity_decrease': 0.1, 'n_estimators': 100}\n"
     ]
    }
   ],
   "source": [
    "print(f'Best Score: {clf.best_score_}')\n",
    "print(f'Best Params: {clf.best_params_}')"
   ]
  },
  {
   "cell_type": "code",
   "execution_count": 64,
   "id": "003c7615-9651-446c-8dd8-bfdffe0f2c74",
   "metadata": {},
   "outputs": [],
   "source": [
    "best_clf = clf.best_estimator_"
   ]
  },
  {
   "cell_type": "code",
   "execution_count": 65,
   "id": "275db14b-c0de-4d18-92b7-bf31d4f6adb4",
   "metadata": {},
   "outputs": [],
   "source": [
    "acc_best_predictions = best_clf.predict(X_test)\n",
    "auc_best_predictions = best_clf.predict_proba(X_test)[:, 1]"
   ]
  },
  {
   "cell_type": "code",
   "execution_count": 66,
   "id": "3df40f04-86f3-4baa-9867-c17666ba6060",
   "metadata": {},
   "outputs": [
    {
     "name": "stdout",
     "output_type": "stream",
     "text": [
      "Final accuracy score on the testing data: 0.8880\n",
      "Final AUC on the testing data: 0.9068\n"
     ]
    }
   ],
   "source": [
    "print(\"Final accuracy score on the testing data: {:.4f}\".format(accuracy_score(y_test, acc_best_predictions)))\n",
    "print(\"Final AUC on the testing data: {:.4f}\".format(roc_auc_score(y_test, auc_best_predictions)))"
   ]
  }
 ],
 "metadata": {
  "kernelspec": {
   "display_name": "Python 3 (ipykernel)",
   "language": "python",
   "name": "python3"
  },
  "language_info": {
   "codemirror_mode": {
    "name": "ipython",
    "version": 3
   },
   "file_extension": ".py",
   "mimetype": "text/x-python",
   "name": "python",
   "nbconvert_exporter": "python",
   "pygments_lexer": "ipython3",
   "version": "3.10.9"
  }
 },
 "nbformat": 4,
 "nbformat_minor": 5
}
